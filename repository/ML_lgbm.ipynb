{
 "cells": [
  {
   "cell_type": "code",
   "execution_count": 1,
   "metadata": {},
   "outputs": [],
   "source": [
    "from lightgbm import LGBMClassifier\n",
    "import pandas as pd\n",
    "import warnings\n",
    "warnings.filterwarnings('ignore')"
   ]
  },
  {
   "cell_type": "code",
   "execution_count": 2,
   "metadata": {},
   "outputs": [],
   "source": [
    "# 讀取訓練集和測試集\n",
    "X_train = pd.read_csv('X_train.csv')\n",
    "X_test = pd.read_csv('X_test.csv')\n",
    "y_train = pd.read_csv('y_train.csv')['country_destination']\n",
    "y_test = y_train[:len(X_test)]"
   ]
  },
  {
   "cell_type": "code",
   "execution_count": 3,
   "metadata": {},
   "outputs": [],
   "source": [
    "lgbm = LGBMClassifier()\n",
    "lgbm.fit(X_train, y_train)\n",
    "lgbm_pred = lgbm.predict(X_test)"
   ]
  },
  {
   "cell_type": "code",
   "execution_count": 4,
   "metadata": {},
   "outputs": [],
   "source": [
    "from sklearn.metrics import accuracy_score, precision_score, recall_score, f1_score, roc_curve ,roc_auc_score\n",
    "\n",
    "\n",
    "def metrics_sklearn(y_valid, y_pred_):\n",
    "    accuracy = accuracy_score(y_valid, y_pred_)\n",
    "    print('Accuracy: %.2f%%' % (accuracy * 100))\n",
    "\n",
    "    precision = precision_score(y_valid, y_pred_, average='weighted')\n",
    "    print('Precision: %.2f%%' % (precision * 100))\n",
    "\n",
    "    recall = recall_score(y_valid, y_pred_, average='weighted')\n",
    "    print('Recall: %.2f%%' % (recall*100))\n",
    "\n",
    "    f1 = f1_score(y_valid, y_pred_, average='weighted')\n",
    "    print('F1: %.2f%%' % (f1 * 100))"
   ]
  },
  {
   "cell_type": "code",
   "execution_count": 5,
   "metadata": {},
   "outputs": [
    {
     "name": "stdout",
     "output_type": "stream",
     "text": [
      "Accuracy: 16.43%\n",
      "Precision: 38.60%\n",
      "Recall: 16.43%\n",
      "F1: 22.38%\n"
     ]
    }
   ],
   "source": [
    "metrics_sklearn(y_test, lgbm_pred)"
   ]
  }
 ],
 "metadata": {
  "kernelspec": {
   "display_name": "env",
   "language": "python",
   "name": "python3"
  },
  "language_info": {
   "codemirror_mode": {
    "name": "ipython",
    "version": 3
   },
   "file_extension": ".py",
   "mimetype": "text/x-python",
   "name": "python",
   "nbconvert_exporter": "python",
   "pygments_lexer": "ipython3",
   "version": "3.10.9"
  },
  "orig_nbformat": 4
 },
 "nbformat": 4,
 "nbformat_minor": 2
}
